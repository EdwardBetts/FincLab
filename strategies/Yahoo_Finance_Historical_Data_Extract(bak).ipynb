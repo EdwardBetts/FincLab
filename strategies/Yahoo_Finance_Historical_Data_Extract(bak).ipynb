{
 "cells": [
  {
   "cell_type": "code",
   "execution_count": 7,
   "metadata": {
    "collapsed": false
   },
   "outputs": [
    {
     "name": "stderr",
     "output_type": "stream",
     "text": [
      "[2015-08-03 06:54:35,939 DEBUG] [yahoo_oauth.yahoo_oauth.__init__] Checking \n",
      "[2015-08-03 06:54:35,940 DEBUG] [yahoo_oauth.yahoo_oauth.token_is_valid] ELAPSED TIME : 973.7816860675812\n",
      "[2015-08-03 06:54:35,941 DEBUG] [yahoo_oauth.yahoo_oauth.token_is_valid] TOKEN IS STILL VALID\n",
      "[2015-08-03 06:54:35,943 DEBUG] [yahoo_oauth.yahoo_oauth.token_is_valid] ELAPSED TIME : 973.7844531536102\n",
      "[2015-08-03 06:54:35,943 DEBUG] [yahoo_oauth.yahoo_oauth.token_is_valid] TOKEN IS STILL VALID\n"
     ]
    }
   ],
   "source": [
    "from yahoo_oauth import OAuth1\n",
    "\n",
    "yf = OAuth1(None, None, from_file='oauth.json')\n",
    "if not yf.token_is_valid():\n",
    "    yf.refresh_access_token()"
   ]
  },
  {
   "cell_type": "code",
   "execution_count": 98,
   "metadata": {
    "collapsed": false
   },
   "outputs": [
    {
     "name": "stdout",
     "output_type": "stream",
     "text": [
      "{}\n",
      "HMAC-SHA1\n",
      "<bound method HmacSha1Signature.sign of <rauth.oauth.HmacSha1Signature object at 0x10e0cb978>>\n",
      "A=X0yV8XSehlwTsHg7Lzv6ZdDQrERYhOcZV9j9aEqRa9cAxoi9rjkeYHxW2vViJrkdcPA6fgdODY6_Zh0UT9tMTTo_I6XHJmv2SWDmbGjg.T3PXeGIwL672Jcyp27P7Sv2tD8f8IE0dorF2o4YcUkVB1NXMLAo0mSZ9cyxrz56h9YBfExPv9rwrrtUZbMug3d1GUa2yiTuOZ3sw8t7PODWRtEK0AmLMbBBW30x1fEIlRLrWFzhlpVQ.i3eyMWkgFfjRtf0lS.tzE..lMHRZwiz8FCQGtXSnr9OCuPGDyL6il4GGDlnM2zToRF7t49D1ncJvTYN__WfCHG8cq49jy1H5uQrLAVSI_Ufw988oN5SFp3Q7QKVXQZ1HGQIk7YRbUxlPD10Kn5elKmOAFGVj0ZwEwG.cEqm7mDB7KL74d.76GvnC8FGwULugJCXsy2UdTQAzMR2xNlCahLB9P6LOG4kARpzqJexVfU.fA6i4SPYzK7t32wnx0NvCQdUZYRxeiS9xPRgBznSZ_ekECwFS6yeCoNb72gWvMqFOel7omOuUVvQpdaKeOIuv1xQ8uK8d3TtgPbdadglE8UOLXV8gVHxtVMy1KEmNNrRfBOAEoE6Nl.mXlNEzBVlm3n9fPc5Vcbi_gnB_SBUIxP3BMCY7RErzOtfU3xxrzColxjA0J0Fd6yOd7yGBgDkgOkPE4QprQgraWIBY88YqaqOxGxoZzdS1b1qgqhZEO1.cSEc2.D7lyx.JO3jr5pfBUJeDZa8BJxMKU2bwStouJcU9JN7xCFBnu_OVoXe.tpWSyPmMCraho5nIn619bUz7z2gnCW2XbZX1Kd2Fb1mivRv4D.C9F2eRAyQ8U4IZGr5DJKZ0lG2qdBMhMvHaZFrvl0ISmDF7gPa4mc-\n",
      "oauth1\n"
     ]
    }
   ],
   "source": [
    "print(yf.session.params)\n",
    "print(yf.session.signature.NAME)\n",
    "print(yf.session.signature.sign)\n",
    "print(yf.session.access_token)\n",
    "print(yf.oauth_version)\n",
    "\n",
    "# useful thread\n",
    "#https://developer.yahoo.com/forum/OAuth-General-Discussion-YDN-SDKs/OAuth-two-legged-documentation-omission-/1253773254000-104aac85-a511-3985-87b8-36f430730ca4/\n"
   ]
  },
  {
   "cell_type": "markdown",
   "metadata": {},
   "source": [
    "# Two-step authentication process\n",
    "\n",
    "1. Send the following url:\n",
    "https://api.login.yahoo.com/oauth/v2/get_request_token?oauth_callback=oob&oauth_consumer_key=PQRST&oauth_nonce=noncasdfe&oauth_signature=ABCD%26&oauth_signature_method=PLAINTEXT&oauth_timestamp=1401800435&oauth_version=1.0\n",
    "while replacing ABCD as Consumer Secret; PQRST as Consumer Key.\n",
    "Note: oauth_signature is your Consumer Secret followed by %26. If you Consumer Secret was ABCD your oauth_signature would become: ABCD%26\n",
    "\n",
    "2. You get back a string like this:\n",
    "oauth_token=hxtv8zb&oauth_token_secret=aab928dd739072ba6c67abc70282e5b7e915f955&oauth_expires_in=3600&xoauth_request_auth_url=https%3A%2F%2Fapi.login.yahoo.com%2Foauth%2Fv2%2Frequest_auth%3Foauth_token%3Dhxtv8zb&oauth_callback_confirmed=true\n",
    "\n",
    "I extracted the oauth_token_secret and the oauth_token( tho some say you dont need oauth_token). I don't need the xoauth_request_auth_url. (I think that is what I would need to pass to the user if it was for a three-legged authentication).\n",
    "\n",
    "The oauth_signature is now : your Consumer Secret with a %26 and the value of oauth_token_secret. If your Consumer Secret was ABCD and the oauth_token_secret sent back from yahoo was ZYXABC your oauth_signature would now be: ABCD%26ZYXABC\n",
    "\n",
    "3. Finally, you send this:\n",
    "https://query.yahooapis.com/v1/public/yql?oauth_consumer_key=PQRST&oauth_nonce=UVA4JXRq4V&oauth_signature_method=PLAINTEXT&oauth_signature=ABCD%26ZYXABC&oauth_timestamp=1401868147&oauth_version=1.0&oauth_token=hxtv8zb&q=select%20*%20from%20local.search%20where%20query%3D%22sushi%22%20and%20location%3D%22san%20francisco%2C%20ca%22&format=json&diagnostics=true&callback=top_stories"
   ]
  },
  {
   "cell_type": "code",
   "execution_count": 6,
   "metadata": {
    "collapsed": false
   },
   "outputs": [
    {
     "name": "stdout",
     "output_type": "stream",
     "text": [
      "https://api.login.yahoo.com/oauth/v2/get_request_token?oauth_callback=oob&oauth_consumer_key=dj0yJmk9VWo0RXhCSk80MmlQJmQ9WVdrOVNXRjFOa2cwTm1zbWNHbzlNQS0tJnM9Y29uc3VtZXJzZWNyZXQmeD1hYw--&oauth_nonce=noncasdfe&oauth_signature=0d0c9222ce8533a5e1350e38f9216ef633561289%26&oauth_signature_method=PLAINTEXT&oauth_timestamp=1401800435&oauth_version=1.0\n"
     ]
    }
   ],
   "source": [
    "\"\"\"\n",
    "https://api.login.yahoo.com/oauth/v2/get_request_token?oauth_callback=oob&oauth_consumer_key=PQRST&oauth_nonce=noncasdfe&oauth_signature=ABCD%26&oauth_signature_method=PLAINTEXT&oauth_timestamp=1401800435&oauth_version=1.0\n",
    "while replacing ABCD as Consumer Secret; PQRST as Consumer Key.\n",
    "Note: oauth_signature is your Consumer Secret followed by %26. If you Consumer Secret was ABCD your oauth_signature would become: ABCD%26\n",
    "\"\"\"     \n",
    "# Build URL\n",
    "url_base = 'https://api.login.yahoo.com/oauth/v2/get_request_token?oauth_callback=oob'\n",
    "consumer_key = '&oauth_consumer_key='+ yf.session.consumer_key\n",
    "consumer_secret = '&oauth_signature=' + yf.session.consumer_secret + '%26'\n",
    "other = '&oauth_nonce=noncasdfe' + '&oauth_signature_method=PLAINTEXT&oauth_timestamp=1401800435&oauth_version=1.0'\n",
    "print(url_base + consumer_key + consumer_secret + other)"
   ]
  },
  {
   "cell_type": "code",
   "execution_count": 1,
   "metadata": {
    "collapsed": false
   },
   "outputs": [
    {
     "ename": "NameError",
     "evalue": "name 'yf' is not defined",
     "output_type": "error",
     "traceback": [
      "\u001b[0;31m---------------------------------------------------------------------------\u001b[0m",
      "\u001b[0;31mNameError\u001b[0m                                 Traceback (most recent call last)",
      "\u001b[0;32m<ipython-input-1-1ed7c772e35e>\u001b[0m in \u001b[0;36m<module>\u001b[0;34m()\u001b[0m\n\u001b[1;32m     19\u001b[0m \u001b[0;31m#http://query.yahooapis.com/v1/public/yql?q=select%20*%20from%20geo.placefinder%20where%20text%3D%2210%20prospect%20brooklyn%20ny%22%20and%20flags%3D%22GT%22%20and%20gflags%3D%22AC%22\u001b[0m\u001b[0;34m\u001b[0m\u001b[0;34m\u001b[0m\u001b[0m\n\u001b[1;32m     20\u001b[0m \u001b[0mrequest_base\u001b[0m \u001b[0;34m=\u001b[0m \u001b[0;34m'http://query.yahooapis.com/v1/public/yql?'\u001b[0m\u001b[0;34m\u001b[0m\u001b[0m\n\u001b[0;32m---> 21\u001b[0;31m \u001b[0mconsumer_key\u001b[0m \u001b[0;34m=\u001b[0m \u001b[0;34m'oauth_consumer_key='\u001b[0m \u001b[0;34m+\u001b[0m \u001b[0myf\u001b[0m\u001b[0;34m.\u001b[0m\u001b[0msession\u001b[0m\u001b[0;34m.\u001b[0m\u001b[0mconsumer_key\u001b[0m\u001b[0;34m\u001b[0m\u001b[0m\n\u001b[0m\u001b[1;32m     22\u001b[0m \u001b[0moauth_nonce\u001b[0m \u001b[0;34m=\u001b[0m \u001b[0;34m'&oauth_nonce='\u001b[0m \u001b[0;34m+\u001b[0m \u001b[0mstr\u001b[0m\u001b[0;34m(\u001b[0m\u001b[0mget_nonce\u001b[0m\u001b[0;34m(\u001b[0m\u001b[0;34m)\u001b[0m\u001b[0;34m)\u001b[0m\u001b[0;34m\u001b[0m\u001b[0m\n\u001b[1;32m     23\u001b[0m \u001b[0moauth_signature_method\u001b[0m \u001b[0;34m=\u001b[0m \u001b[0;34m'&oauth_signature_method=PLAINTEXT'\u001b[0m\u001b[0;34m\u001b[0m\u001b[0m\n",
      "\u001b[0;31mNameError\u001b[0m: name 'yf' is not defined"
     ]
    }
   ],
   "source": [
    "\"\"\"\n",
    "oauth_token=bkxykvs&oauth_token_secret=c99b53a5858706567a78156afb872f01c85c624d&oauth_expires_in=3600&xoauth_request_auth_url=https%3A%2F%2Fapi.login.yahoo.com%2Foauth%2Fv2%2Frequest_auth%3Foauth_token%3Dbkxykvs&oauth_callback_confirmed=true\n",
    "I extracted the oauth_token_secret and the oauth_token( tho some say you dont need oauth_token). I don't need the xoauth_request_auth_url. (I think that is what I would need to pass to the user if it was for a three-legged authentication).\n",
    "The oauth_signature is now : your Consumer Secret with a %26 and the value of oauth_token_secret. If your Consumer Secret was ABCD and the oauth_token_secret sent back from yahoo was ZYXABC your oauth_signature would now be: ABCD%26ZYXABC\n",
    "\"\"\"\n",
    "import time\n",
    "import random\n",
    "import base64\n",
    "def get_nonce():\n",
    "    \"\"\"Unique token generated for each request\"\"\"\n",
    "    n = base64.b64encode(\n",
    "        ''.join([str(random.randint(0, 9)) for i in range(24)]).encode('utf-8'))\n",
    "    return n.decode('utf-8')\n",
    "\n",
    "\n",
    "oauth_token_secret = 'c99b53a5858706567a78156afb872f01c85c624d'\n",
    "oauth_token = 'bkxykvs'\n",
    "\n",
    "#http://query.yahooapis.com/v1/public/yql?q=select%20*%20from%20geo.placefinder%20where%20text%3D%2210%20prospect%20brooklyn%20ny%22%20and%20flags%3D%22GT%22%20and%20gflags%3D%22AC%22\n",
    "request_base = 'http://query.yahooapis.com/v1/public/yql?'\n",
    "consumer_key = 'oauth_consumer_key=' + yf.session.consumer_key\n",
    "oauth_nonce = '&oauth_nonce=' + str(get_nonce())\n",
    "oauth_signature_method = '&oauth_signature_method=PLAINTEXT'\n",
    "oauth_signature = '&oauth_signature=' + yf.session.consumer_secret + '%26' + oauth_token_secret\n",
    "oauth_timestamp = '&oauth_timestamp=' + str(int(time.time()))\n",
    "oauth_version = '&oauth_version=1.0'\n",
    "request_oauth_token = '&oauth_token=' + oauth_token\n",
    "request_q = '&q=select%20*%20from%20geo.placefinder%20where%20text%3D%2210%20prospect%20brooklyn%20ny%22%20and%20flags%3D%22GT%22%20and%20gflags%3D%22AC%22'\n",
    "print(request_base + consumer_key + oauth_nonce + \n",
    "     oauth_signature_method + oauth_signature +\n",
    "     oauth_timestamp + oauth_version +\n",
    "     request_oauth_token + request_q)"
   ]
  },
  {
   "cell_type": "code",
   "execution_count": 127,
   "metadata": {
    "collapsed": false
   },
   "outputs": [
    {
     "name": "stdout",
     "output_type": "stream",
     "text": [
      "None\n",
      "https://api.login.yahoo.com/oauth/v2/get_token\n",
      "https://api.login.yahoo.com/oauth/v2/request_auth\n",
      "yahoo\n",
      "dj0yJmk9VWo0RXhCSk80MmlQJmQ9WVdrOVNXRjFOa2cwTm1zbWNHbzlNQS0tJnM9Y29uc3VtZXJzZWNyZXQmeD1hYw--\n",
      "https://api.login.yahoo.com/oauth/v2/get_token\n",
      "https://api.login.yahoo.com/oauth/v2/get_token?oauth_signature_method=HMAC-SHA1&oauth_verifier=24h7nt&oauth_version=1.0&oauth_signature=fvgDiKAdCO%2BD%2BTroqWQZ1APhdPY%3D&oauth_token=bxvg6s2&oauth_consumer_key=dj0yJmk9VWo0RXhCSk80MmlQJmQ9WVdrOVNXRjFOa2cwTm1zbWNHbzlNQS0tJnM9Y29uc3VtZXJzZWNyZXQmeD1hYw--&oauth_timestamp=1438527474&oauth_nonce=36d18b08edb22cec0eda3b34ff0f57bd7fdf3eee\n",
      "<bound method Response.json of <Response [200]>>\n",
      "https://api.login.yahoo.com/oauth/v2/get_request_token?oauth_signature_method=HMAC-SHA1&oauth_version=1.0&oauth_signature=2J6JP61QnCIftsqHKeXAvaXgoBw%3D&oauth_consumer_key=dj0yJmk9VWo0RXhCSk80MmlQJmQ9WVdrOVNXRjFOa2cwTm1zbWNHbzlNQS0tJnM9Y29uc3VtZXJzZWNyZXQmeD1hYw--&oauth_callback=oob&oauth_timestamp=1438527456&oauth_nonce=1faa3d449c6a68820548e6854a493a738c7b2911\n"
     ]
    }
   ],
   "source": [
    "print(yf.oauth.base_url)\n",
    "print(yf.oauth.access_token_url)\n",
    "print(yf.oauth.authorize_url)\n",
    "print(yf.oauth.name)\n",
    "print(yf.oauth.consumer_key)\n",
    "print(yf.oauth.access_token_url)\n",
    "print(yf.oauth.access_token_response.url)\n",
    "print(yf.oauth.access_token_response.json)\n",
    "print(yf.oauth.request_token_response.url)"
   ]
  },
  {
   "cell_type": "code",
   "execution_count": 135,
   "metadata": {
    "collapsed": false
   },
   "outputs": [
    {
     "name": "stdout",
     "output_type": "stream",
     "text": [
      "None\n"
     ]
    }
   ],
   "source": [
    "r = yf.session."
   ]
  },
  {
   "cell_type": "code",
   "execution_count": 68,
   "metadata": {
    "collapsed": false
   },
   "outputs": [
    {
     "name": "stdout",
     "output_type": "stream",
     "text": [
      "{}\n",
      "b'<?xml version=\"1.0\" encoding=\"UTF-8\" standalone=\"yes\"?><yahoo:error xmlns:yahoo=\"http://www.yahooapis.com/v1/base.rng\" yahoo:uri'\n",
      "b'=\"http://yahoo.com\" xml:lang=\"en-US\"><yahoo:description>Please provide valid credentials. OAuth oauth_problem=&quot;OST_OAUTH_SI'\n",
      "b'GNATURE_INVALID_ERROR&quot;, realm=&quot;yahooapis.com&quot;</yahoo:description><yahoo:detail>Please provide valid credentials. '\n",
      "b'OAuth oauth_problem=&quot;OST_OAUTH_SIGNATURE_INVALID_ERROR&quot;, realm=&quot;yahooapis.com&quot;</yahoo:detail></yahoo:error>'\n"
     ]
    }
   ],
   "source": [
    "#print(oauth.session.access_token)\n",
    "params = {\n",
    "         'consumer_key': yf.session.consumer_key,\n",
    "         'consumer_secret': yf.session.consumer_secret\n",
    "         }\n",
    "params = {}\n",
    "print(params)\n",
    "url = 'https://query.yahooapis.com/v1/yql?q=select%20*%20from%20local.search%20where%20query%3D%22sushi%22%20and%20location%3D%22san%20francisco%2C%20ca%22&format=json&diagnostics=true&callback='\n",
    "t1 = '%26consumer_secret%3D'+yf.session.consumer_key\n",
    "t2 = '%26token_secret%3D'+yf.session.access_token_secret\n",
    "responses = yf.session.get(url, \n",
    "              params=params, verify=True)\n",
    "\n",
    "for row in responses:\n",
    "    print(row)"
   ]
  },
  {
   "cell_type": "code",
   "execution_count": 69,
   "metadata": {
    "collapsed": false
   },
   "outputs": [
    {
     "ename": "SyntaxError",
     "evalue": "invalid syntax (<ipython-input-69-e8fa04f80268>, line 1)",
     "output_type": "error",
     "traceback": [
      "\u001b[0;36m  File \u001b[0;32m\"<ipython-input-69-e8fa04f80268>\"\u001b[0;36m, line \u001b[0;32m1\u001b[0m\n\u001b[0;31m    231   def yql(self, query):\u001b[0m\n\u001b[0m            ^\u001b[0m\n\u001b[0;31mSyntaxError\u001b[0m\u001b[0;31m:\u001b[0m invalid syntax\n"
     ]
    }
   ],
   "source": [
    "231   def yql(self, query):                                                         \n",
    "232     parameters = { 'q': query, 'format': 'json', 'env': yql.DATATABLES_URL }    \n",
    "233     request = oauthlib.oauth.OAuthRequest.from_consumer_and_token(self.consumer, token=self.token, http_method='GET', http_url=yql.OAUTH_API_URL, parameters=parameters)\n",
    "234     request.sign_request(self.signature_method_hmac_sha1, self.consumer, self.token)\n",
    "235     try:                                                                        \n",
    "236       return simplejson.loads(self.client.access_resource(request))             \n",
    "237     except:                                                                     \n",
    "238       return False    "
   ]
  },
  {
   "cell_type": "code",
   "execution_count": null,
   "metadata": {
    "collapsed": false
   },
   "outputs": [],
   "source": [
    "import requests\n",
    "\n",
    "\n",
    "class Request(object):\n",
    "    \"\"\"Class is responsible for prepare request query and sends it to YQL Yahoo API.\"\"\"\n",
    "    parameters = {\n",
    "        'q': '',\n",
    "        'format': 'json',\n",
    "        'diagnostics': 'false',\n",
    "        'env': 'store://datatables.org/alltableswithkeys',\n",
    "        'callback': ''\n",
    "    }\n",
    "    api = 'https://query.yahooapis.com/v1/public/yql'https://simplypython.files.wordpress.com/2015/03/python-integrated-stock-retrieval-and-filter.jpg\n",
    "    #api = 'https://query.yahooapis.com/v1/yql'\n",
    "    \n",
    "    def prepare_query(self, symbol,  start_date, end_date):\n",
    "        \"\"\"Method returns prepared request query for Yahoo YQL API.\"\"\"\n",
    "        query = \\\n",
    "            'select * from yahoo.finance.historicaldata where symbol = \"%s\" and startDate = \"%s\" and endDate = \"%s\"' \\\n",
    "            % (symbol, start_date, end_date)\n",
    "\n",
    "        return query\n",
    "\n",
    "    def send(self, symbol, start_date, end_date):\n",
    "        \"\"\"Method sends request to Yahoo YQL API.\"\"\"\n",
    "        query = self.prepare_query(symbol, start_date, end_date)\n",
    "\n",
    "        self.parameters['q'] = query\n",
    "        response = requests.get(self.api, params=self.parameters).json()\n",
    "\n",
    "        results = response['query']['results']['quote']\n",
    "\n",
    "        return results"
   ]
  },
  {
   "cell_type": "code",
   "execution_count": null,
   "metadata": {
    "collapsed": false
   },
   "outputs": [],
   "source": [
    "import datetime\n",
    "from dateutil.relativedelta import relativedelta\n",
    "\n",
    "class const(object):\n",
    "    ONE_YEAR = 1\n",
    "\n",
    "class YQL(object):\n",
    "    \"\"\"yql-finance is simple and fast https://developer.yahoo.com/yql/console/ python API.\n",
    "    API returns stock closing prices for current period of time and current stock ticker/symbol (i.e. APPL, GOOGL).\n",
    "    You can use it to fetch data in one of two ways::\n",
    "        - yql = YQL('AAPL', '2011-01-01', '2014-12-31')\n",
    "        or\n",
    "        - yql = YQL()\n",
    "          yql.select('AAPL', '2011-01-01', '2014-12-31')\n",
    "    Requirements:\n",
    "        - requests\n",
    "        - dateutil\n",
    "    \"\"\"\n",
    "    request = Request()\n",
    "\n",
    "    def __repr__(self):\n",
    "        return '<YQL Object: symbol %s start_date / %s end_date %s>' % (self.symbol, self.start_date, self.end_date)\n",
    "\n",
    "    def __init__(self, symbol, start_data, end_data):\n",
    "        \"\"\"Method setups basic (self) variables.\"\"\"\n",
    "        self.start_date = self.to_date(start_data)\n",
    "        self.end_date = self.to_date(end_data)\n",
    "        self.symbol = symbol\n",
    "\n",
    "        self.data = self.fetch_data()\n",
    "\n",
    "    def __getitem__(self, index):\n",
    "        return self.data[index]\n",
    "\n",
    "    def __setitem__(self, index, value):\n",
    "        self.data[index] = value\n",
    "\n",
    "    def __delitem__(self, index):\n",
    "        del self.data[index]\n",
    "\n",
    "    @staticmethod\n",
    "    def to_date(date):\n",
    "        \"\"\"Method converts string date to datetime date. You should use %Y-%m-%d format.\"\"\"\n",
    "        return datetime.datetime.strptime(date, '%Y-%m-%d').date()\n",
    "\n",
    "    @classmethod\n",
    "    def select(cls, symbol, start_date, end_date):\n",
    "        \"\"\"Method returns stock prices for current: ticker/symbol, start date, end date.\"\"\"\n",
    "        instance = cls(symbol, start_date, end_date)\n",
    "\n",
    "        return instance.data\n",
    "\n",
    "    def fetch_data(self):\n",
    "        \"\"\"Method returns results from response of Yahoo YQL API. It should returns always python list.\"\"\"\n",
    "        if relativedelta(self.end_date, self.start_date).years <= const.ONE_YEAR:\n",
    "            data = self.request.send(self.symbol, self.start_date, self.end_date)\n",
    "        else:\n",
    "            data = self.fetch_chunk_data()\n",
    "\n",
    "        return self.clean(data)\n",
    "\n",
    "    def fetch_chunk_data(self):\n",
    "        \"\"\"If period of time between start end end is bigger then one year\n",
    "        We have to create and fetch chunks dates (6 months chunks).\"\"\"\n",
    "        data = []\n",
    "\n",
    "        counter = (relativedelta(self.end_date, self.start_date).months / 6) + 1\n",
    "        months = 0\n",
    "\n",
    "        for month in range(counter):\n",
    "\n",
    "            chunk_start_date = self.start_date + relativedelta(months=months)\n",
    "            chunk_end_date = self.start_date + relativedelta(months=months + 6)\n",
    "\n",
    "            months += 6\n",
    "\n",
    "            if chunk_end_date > self.end_date:\n",
    "                chunk_end_date = self.end_date\n",
    "\n",
    "            data = data + self.request.send(self.symbol, chunk_start_date, chunk_end_date)\n",
    "\n",
    "        return data\n",
    "\n",
    "    def clean(self, data):\n",
    "        \"\"\"Method returns cleaned list of stock closing prices\n",
    "        (i.e. dict(date=datetime.date(2015, 1, 2), price='23.21')).\"\"\"\n",
    "        cleaned_data = list()\n",
    "\n",
    "        if not isinstance(data, list):\n",
    "            data = [data]\n",
    "\n",
    "        for item in data:\n",
    "            date = datetime.datetime.strptime(item['Date'], '%Y-%m-%d').date()\n",
    "            cleaned_data.append(dict(price=item['Adj_Close'], date=date))\n",
    "\n",
    "        return cleaned_data"
   ]
  },
  {
   "cell_type": "code",
   "execution_count": null,
   "metadata": {
    "collapsed": false
   },
   "outputs": [],
   "source": [
    "from rauth import OAuth1Service\n",
    "\n",
    "try:\n",
    "    read_input = raw_input\n",
    "except NameError:\n",
    "    read_input = input\n",
    "\n",
    "# Get a real consumer key & secret from https://dev.twitter.com/apps/new\n",
    "twitter = OAuth1Service(\n",
    "    name='twitter',\n",
    "    consumer_key='pWUdDZrr42vdXds2xPoFdvoKE',\n",
    "    consumer_secret='5ZZNBe1wKxFEed6D2H1IPzW5HYA2ccIy9xGx0ToveF0xx5o9Gl',\n",
    "    request_token_url='https://api.twitter.com/oauth/request_token',\n",
    "    access_token_url='https://api.twitter.com/oauth/access_token',\n",
    "    authorize_url='https://api.twitter.com/oauth/authorize',\n",
    "    base_url='https://api.twitter.com/1.1/')\n",
    "\n",
    "request_token, request_token_secret = twitter.get_request_token()\n",
    "\n",
    "authorize_url = twitter.get_authorize_url(request_token)\n",
    "\n",
    "print('Visit this URL in your browser: {url}'.format(url=authorize_url))\n",
    "pin = read_input('Enter PIN from browser: ')\n",
    "\n",
    "session = twitter.get_auth_session(request_token,\n",
    "                                   request_token_secret,\n",
    "                                   method='POST',\n",
    "                                   data={'oauth_verifier': pin})\n",
    "\n",
    "params = {'include_rts': 1,  # Include retweets\n",
    "          'count': 10}       # 10 tweets\n",
    "\n",
    "r = session.get('statuses/home_timeline.json', params=params, verify=True)\n",
    "\n",
    "for i, tweet in enumerate(r.json(), 1):\n",
    "    handle = tweet['user']['screen_name']\n",
    "    text = tweet['text']\n",
    "    print(u'{0}. @{1} - {2}'.format(i, handle, text))\n",
    "\n"
   ]
  },
  {
   "cell_type": "code",
   "execution_count": 78,
   "metadata": {
    "collapsed": false
   },
   "outputs": [
    {
     "ename": "KeyError",
     "evalue": "\"Decoder failed to handle oauth_token with data as returned by provider. A different decoder may be needed. Provider returned: b'oauth_problem=parameter_absent&oauth_parameters_absent=oauth_callback'\"",
     "output_type": "error",
     "traceback": [
      "\u001b[0;31m---------------------------------------------------------------------------\u001b[0m",
      "\u001b[0;31mKeyError\u001b[0m                                  Traceback (most recent call last)",
      "\u001b[0;32m/Users/peter/.virtualenvs/FincLab/lib/python3.4/site-packages/rauth/service.py\u001b[0m in \u001b[0;36mprocess_token_request\u001b[0;34m(r, decoder, *args)\u001b[0m\n\u001b[1;32m     20\u001b[0m         \u001b[0mdata\u001b[0m \u001b[0;34m=\u001b[0m \u001b[0mdecoder\u001b[0m\u001b[0;34m(\u001b[0m\u001b[0mr\u001b[0m\u001b[0;34m.\u001b[0m\u001b[0mcontent\u001b[0m\u001b[0;34m)\u001b[0m\u001b[0;34m\u001b[0m\u001b[0m\n\u001b[0;32m---> 21\u001b[0;31m         \u001b[0;32mreturn\u001b[0m \u001b[0mtuple\u001b[0m\u001b[0;34m(\u001b[0m\u001b[0mdata\u001b[0m\u001b[0;34m[\u001b[0m\u001b[0mkey\u001b[0m\u001b[0;34m]\u001b[0m \u001b[0;32mfor\u001b[0m \u001b[0mkey\u001b[0m \u001b[0;32min\u001b[0m \u001b[0margs\u001b[0m\u001b[0;34m)\u001b[0m\u001b[0;34m\u001b[0m\u001b[0m\n\u001b[0m\u001b[1;32m     22\u001b[0m     \u001b[0;32mexcept\u001b[0m \u001b[0mKeyError\u001b[0m \u001b[0;32mas\u001b[0m \u001b[0me\u001b[0m\u001b[0;34m:\u001b[0m  \u001b[0;31m# pragma: no cover\u001b[0m\u001b[0;34m\u001b[0m\u001b[0m\n",
      "\u001b[0;32m/Users/peter/.virtualenvs/FincLab/lib/python3.4/site-packages/rauth/service.py\u001b[0m in \u001b[0;36m<genexpr>\u001b[0;34m(.0)\u001b[0m\n\u001b[1;32m     20\u001b[0m         \u001b[0mdata\u001b[0m \u001b[0;34m=\u001b[0m \u001b[0mdecoder\u001b[0m\u001b[0;34m(\u001b[0m\u001b[0mr\u001b[0m\u001b[0;34m.\u001b[0m\u001b[0mcontent\u001b[0m\u001b[0;34m)\u001b[0m\u001b[0;34m\u001b[0m\u001b[0m\n\u001b[0;32m---> 21\u001b[0;31m         \u001b[0;32mreturn\u001b[0m \u001b[0mtuple\u001b[0m\u001b[0;34m(\u001b[0m\u001b[0mdata\u001b[0m\u001b[0;34m[\u001b[0m\u001b[0mkey\u001b[0m\u001b[0;34m]\u001b[0m \u001b[0;32mfor\u001b[0m \u001b[0mkey\u001b[0m \u001b[0;32min\u001b[0m \u001b[0margs\u001b[0m\u001b[0;34m)\u001b[0m\u001b[0;34m\u001b[0m\u001b[0m\n\u001b[0m\u001b[1;32m     22\u001b[0m     \u001b[0;32mexcept\u001b[0m \u001b[0mKeyError\u001b[0m \u001b[0;32mas\u001b[0m \u001b[0me\u001b[0m\u001b[0;34m:\u001b[0m  \u001b[0;31m# pragma: no cover\u001b[0m\u001b[0;34m\u001b[0m\u001b[0m\n",
      "\u001b[0;31mKeyError\u001b[0m: 'oauth_token'",
      "\nDuring handling of the above exception, another exception occurred:\n",
      "\u001b[0;31mKeyError\u001b[0m                                  Traceback (most recent call last)",
      "\u001b[0;32m<ipython-input-78-95f8d7abdef5>\u001b[0m in \u001b[0;36m<module>\u001b[0;34m()\u001b[0m\n\u001b[1;32m     17\u001b[0m \u001b[0;34m\u001b[0m\u001b[0m\n\u001b[1;32m     18\u001b[0m \u001b[0;34m\u001b[0m\u001b[0m\n\u001b[0;32m---> 19\u001b[0;31m \u001b[0mrequest_token\u001b[0m\u001b[0;34m,\u001b[0m \u001b[0mrequest_token_secret\u001b[0m \u001b[0;34m=\u001b[0m \u001b[0mtwitter\u001b[0m\u001b[0;34m.\u001b[0m\u001b[0mget_request_token\u001b[0m\u001b[0;34m(\u001b[0m\u001b[0;34m)\u001b[0m\u001b[0;34m\u001b[0m\u001b[0m\n\u001b[0m\u001b[1;32m     20\u001b[0m \u001b[0;34m\u001b[0m\u001b[0m\n",
      "\u001b[0;32m/Users/peter/.virtualenvs/FincLab/lib/python3.4/site-packages/rauth/service.py\u001b[0m in \u001b[0;36mget_request_token\u001b[0;34m(self, method, decoder, key_token, key_token_secret, **kwargs)\u001b[0m\n\u001b[1;32m    242\u001b[0m         \u001b[0mr\u001b[0m \u001b[0;34m=\u001b[0m \u001b[0mself\u001b[0m\u001b[0;34m.\u001b[0m\u001b[0mget_raw_request_token\u001b[0m\u001b[0;34m(\u001b[0m\u001b[0mmethod\u001b[0m\u001b[0;34m=\u001b[0m\u001b[0mmethod\u001b[0m\u001b[0;34m,\u001b[0m \u001b[0;34m**\u001b[0m\u001b[0mkwargs\u001b[0m\u001b[0;34m)\u001b[0m\u001b[0;34m\u001b[0m\u001b[0m\n\u001b[1;32m    243\u001b[0m         \u001b[0mrequest_token\u001b[0m\u001b[0;34m,\u001b[0m \u001b[0mrequest_token_secret\u001b[0m \u001b[0;34m=\u001b[0m\u001b[0;31m \u001b[0m\u001b[0;31m\\\u001b[0m\u001b[0;34m\u001b[0m\u001b[0m\n\u001b[0;32m--> 244\u001b[0;31m             \u001b[0mprocess_token_request\u001b[0m\u001b[0;34m(\u001b[0m\u001b[0mr\u001b[0m\u001b[0;34m,\u001b[0m \u001b[0mdecoder\u001b[0m\u001b[0;34m,\u001b[0m \u001b[0mkey_token\u001b[0m\u001b[0;34m,\u001b[0m \u001b[0mkey_token_secret\u001b[0m\u001b[0;34m)\u001b[0m\u001b[0;34m\u001b[0m\u001b[0m\n\u001b[0m\u001b[1;32m    245\u001b[0m         \u001b[0;32mreturn\u001b[0m \u001b[0mrequest_token\u001b[0m\u001b[0;34m,\u001b[0m \u001b[0mrequest_token_secret\u001b[0m\u001b[0;34m\u001b[0m\u001b[0m\n\u001b[1;32m    246\u001b[0m \u001b[0;34m\u001b[0m\u001b[0m\n",
      "\u001b[0;32m/Users/peter/.virtualenvs/FincLab/lib/python3.4/site-packages/rauth/service.py\u001b[0m in \u001b[0;36mprocess_token_request\u001b[0;34m(r, decoder, *args)\u001b[0m\n\u001b[1;32m     22\u001b[0m     \u001b[0;32mexcept\u001b[0m \u001b[0mKeyError\u001b[0m \u001b[0;32mas\u001b[0m \u001b[0me\u001b[0m\u001b[0;34m:\u001b[0m  \u001b[0;31m# pragma: no cover\u001b[0m\u001b[0;34m\u001b[0m\u001b[0m\n\u001b[1;32m     23\u001b[0m         \u001b[0mbad_key\u001b[0m \u001b[0;34m=\u001b[0m \u001b[0me\u001b[0m\u001b[0;34m.\u001b[0m\u001b[0margs\u001b[0m\u001b[0;34m[\u001b[0m\u001b[0;36m0\u001b[0m\u001b[0;34m]\u001b[0m\u001b[0;34m\u001b[0m\u001b[0m\n\u001b[0;32m---> 24\u001b[0;31m         \u001b[0;32mraise\u001b[0m \u001b[0mKeyError\u001b[0m\u001b[0;34m(\u001b[0m\u001b[0mPROCESS_TOKEN_ERROR\u001b[0m\u001b[0;34m.\u001b[0m\u001b[0mformat\u001b[0m\u001b[0;34m(\u001b[0m\u001b[0mkey\u001b[0m\u001b[0;34m=\u001b[0m\u001b[0mbad_key\u001b[0m\u001b[0;34m,\u001b[0m \u001b[0mraw\u001b[0m\u001b[0;34m=\u001b[0m\u001b[0mr\u001b[0m\u001b[0;34m.\u001b[0m\u001b[0mcontent\u001b[0m\u001b[0;34m)\u001b[0m\u001b[0;34m)\u001b[0m\u001b[0;34m\u001b[0m\u001b[0m\n\u001b[0m\u001b[1;32m     25\u001b[0m \u001b[0;34m\u001b[0m\u001b[0m\n\u001b[1;32m     26\u001b[0m \u001b[0;34m\u001b[0m\u001b[0m\n",
      "\u001b[0;31mKeyError\u001b[0m: \"Decoder failed to handle oauth_token with data as returned by provider. A different decoder may be needed. Provider returned: b'oauth_problem=parameter_absent&oauth_parameters_absent=oauth_callback'\""
     ]
    }
   ],
   "source": [
    "from rauth import OAuth1Service\n",
    "\n",
    "try:\n",
    "    read_input = raw_input\n",
    "except NameError:\n",
    "    read_input = input\n",
    "\n",
    "# Get a real consumer key & secret from https://dev.twitter.com/apps/new\n",
    "twitter = OAuth1Service(\n",
    "    name='yahoo',\n",
    "    consumer_key='dj0yJmk9VWo0RXhCSk80MmlQJmQ9WVdrOVNXRjFOa2cwTm1zbWNHbzlNQS0tJnM9Y29uc3VtZXJzZWNyZXQmeD1hYw--',\n",
    "    consumer_secret='0d0c9222ce8533a5e1350e38f9216ef633561289',\n",
    "    request_token_url='https://api.login.yahoo.com/oauth/v2/get_request_token',\n",
    "    access_token_url='https://api.login.yahoo.com/oauth/v2/get_token',\n",
    "    authorize_url='https://api.login.yahoo.com/oauth/v2/request_auth',\n",
    "    base_url='http://query.yahooapis.com/v1/yql')\n",
    "\n",
    "\n",
    "request_token, request_token_secret = twitter.get_request_token()\n",
    "\n",
    "authorize_url = twitter.get_authorize_url(request_token)\n",
    "\n",
    "print('Visit this URL in your browser: {url}'.format(url=authorize_url))\n",
    "pin = read_input('Enter PIN from browser: ')\n",
    "\n",
    "session = twitter.get_auth_session(request_token,\n",
    "                                   request_token_secret,\n",
    "                                   method='POST',\n",
    "                                   data={'oauth_verifier': pin})\n",
    "\n",
    "params = {'include_rts': 1,  # Include retweets\n",
    "          'count': 10}       # 10 tweets\n",
    "\n",
    "r = session.get('statuses/home_timeline.json', params=params, verify=True)\n",
    "\n",
    "for i, tweet in enumerate(r.json(), 1):\n",
    "    handle = tweet['user']['screen_name']\n",
    "    text = tweet['text']\n",
    "    print(u'{0}. @{1} - {2}'.format(i, handle, text))"
   ]
  },
  {
   "cell_type": "code",
   "execution_count": 74,
   "metadata": {
    "collapsed": true
   },
   "outputs": [],
   "source": [
    "import pdb\n",
    "import json\n",
    "import time\n",
    "import base64\n",
    "from rauth.utils import parse_utf8_qsl\n",
    "\n",
    "class BaseOAuth():\n",
    "    \"\"\"\n",
    "    \"\"\"\n",
    "    def __init__(self, oauth_version, consumer_key, consumer_secret):\n",
    "        \"\"\"\n",
    "        consumer_key : client key\n",
    "        consumer_secret : client secret\n",
    "        access_token : access token\n",
    "        access_token_secret : access token secret\n",
    "        from_file : file containing the credentials\n",
    "        base url : Base url\n",
    "        \"\"\"\n",
    "        \n",
    "        self.oauth_version = oauth_version\n",
    "        self.consumer_key = consumer_key\n",
    "        self.consumer_secret = consumer_secret\n",
    "        \n",
    "        self.oauth_version = oauth_version\n",
    "        \n",
    "        # Init OAuth\n",
    "        if self.oauth_version == 'oauth1':\n",
    "            service_params = {\n",
    "                'consumer_key': self.consumer_key,\n",
    "                'consumer_secret': self.consumer_secret,\n",
    "                'request_token_url': \"https://api.login.yahoo.com/oauth/v2/get_request_token\"\n",
    "            }\n",
    "            \n",
    "        service_params.update({\n",
    "                'name' : 'yahoo',\n",
    "                'access_token_url' : \"https://api.login.yahoo.com/oauth/v2/get_token\",    \n",
    "                'authorize_url' : \"https://api.login.yahoo.com/oauth/v2/request_auth\",\n",
    "                'base_url' : None\n",
    "            })\n",
    "        \n",
    "        # Defining oauth service\n",
    "        self.oauth = rauth.OAuth1Service(**service_params)\n",
    "        \n",
    "        if \n",
    "        "
   ]
  }
 ],
 "metadata": {
  "kernelspec": {
   "display_name": "Python 3",
   "language": "python",
   "name": "python3"
  },
  "language_info": {
   "codemirror_mode": {
    "name": "ipython",
    "version": 3
   },
   "file_extension": ".py",
   "mimetype": "text/x-python",
   "name": "python",
   "nbconvert_exporter": "python",
   "pygments_lexer": "ipython3",
   "version": "3.4.3"
  }
 },
 "nbformat": 4,
 "nbformat_minor": 0
}
