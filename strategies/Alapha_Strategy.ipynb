{
 "cells": [
  {
   "cell_type": "markdown",
   "metadata": {
    "collapsed": false
   },
   "source": [
    "Alpha Strategy\n",
    "==\n",
    "\n",
    "- Version: v0.01\n",
    "- Update: 2015-11-21\n",
    "- Author: Peter lee\n",
    "\n",
    "Based on multi-factor models to back-test market signals."
   ]
  },
  {
   "cell_type": "code",
   "execution_count": 1,
   "metadata": {
    "collapsed": true
   },
   "outputs": [],
   "source": [
    "import numpy as np\n",
    "import pandas as pd\n",
    "from pandas import Series, DataFrame, Panel, datetime\n",
    "from datetime import timedelta\n",
    "import datetime\n",
    "import os\n",
    "\n",
    "# ==================== Environment Variables ====================\n",
    "# Folder locations\n",
    "folder = \"/Users/peter/Workspace/FincLab/\"                  # Location of the scripts\n",
    "folder_output = \"/Users/peter/Workspace/FincLab/strategies/outputs/\"   # Location of the output files\n",
    "folder_temp = \"/Users/peter/Workspace/Temp/\"                           # Where temporary files should be stored\n",
    "folder_stock_data = \"/Users/peter/Workspace/StockData/\"                # Where the stock historical data are stored\n",
    "folder_factors = \"/Users/peter/Workspace/StockData/Factors/\"           # Where the factor variables are stored\n",
    "# Program settings\n",
    "debug = True                                                           # True: To load only 10 files.\n",
    "# ===============================================================\n",
    "\n",
    "os.chdir(folder)"
   ]
  },
  {
   "cell_type": "code",
   "execution_count": 2,
   "metadata": {
    "collapsed": true
   },
   "outputs": [],
   "source": [
    "# Initial a logger\n",
    "from lib.logger import SimpleLogger\n",
    "import logging\n",
    "import logging.config\n",
    "\n",
    "logging.setLoggerClass(SimpleLogger)\n",
    "logger = logging.getLogger(\"Alpha\")  # the logger tracks the package/module hierarchy, and events are logged just from the logger name.\n",
    "logger.propagate = False\n",
    "\n",
    "# [How to use the logger]:\n",
    "# logger.debug('debug message')\n",
    "# logger.info('info msg')\n",
    "# logger.warning('warn msg')\n",
    "# logger.error('error msg')\n",
    "# logger.critical('critical msg')\n",
    "\n",
    "# Initial Checks\n",
    "folders = [folder, folder_output, folder_temp, folder_stock_data, folder_factors]\n",
    "for path in folders:\n",
    "    if not os.path.exists(path):\n",
    "        raise ValueError(path + \" does not exist!\")"
   ]
  },
  {
   "cell_type": "code",
   "execution_count": 5,
   "metadata": {
    "collapsed": false
   },
   "outputs": [
    {
     "name": "stderr",
     "output_type": "stream",
     "text": [
      "[Alpha 2015-11-21 14:22:46,845 DEBUG]  Now loading /Users/peter/Workspace/StockData/Shanghai/600000.xlsx\n",
      "[Alpha 2015-11-21 14:22:47,234 DEBUG]  Now loading /Users/peter/Workspace/StockData/Shanghai/600004.xlsx\n",
      "[Alpha 2015-11-21 14:22:47,542 DEBUG]  Now loading /Users/peter/Workspace/StockData/Shanghai/600005.xlsx\n",
      "[Alpha 2015-11-21 14:22:47,894 DEBUG]  Now loading /Users/peter/Workspace/StockData/Shenzhen/000001.xlsx\n",
      "[Alpha 2015-11-21 14:22:48,458 DEBUG]  Now loading /Users/peter/Workspace/StockData/Shenzhen/000002.xlsx\n",
      "[Alpha 2015-11-21 14:22:49,045 DEBUG]  Now loading /Users/peter/Workspace/StockData/Shenzhen/000004.xlsx\n",
      "[Alpha 2015-11-21 14:22:49,616 DEBUG]  Now loading /Users/peter/Workspace/StockData/Shenzhen/000005.xlsx\n"
     ]
    }
   ],
   "source": [
    "# -------------------- S1. Prepare Dataset --------------------\n",
    "# Form a panel dataset comprising of all historical data\n",
    "# from Shanghai and Shenzhen exchages\n",
    "data_panel = None\n",
    "for root, dirs, files in os.walk(folder_stock_data):\n",
    "    if debug==True:\n",
    "        # Limit the number of files to load to 10\n",
    "        files = files[:4]\n",
    "\n",
    "    data_dict = {}\n",
    "    for file in files:\n",
    "        if file.endswith('.xlsx') and file != \"index.xlsx\":\n",
    "            logger.debug(\"Now loading \" + root + '/' + file)\n",
    "            stock_id, dump = file.split('.')\n",
    "            data_temp = pd.read_excel(root + '/' + file)\n",
    "            # Declare timeseries\n",
    "            data_temp = data_temp.set_index('Date').tz_localize('Asia/Shanghai')\n",
    "            data_dict[stock_id] = data_temp\n",
    "\n",
    "data_panel = Panel(data_dict)  # Daily series"
   ]
  },
  {
   "cell_type": "code",
   "execution_count": null,
   "metadata": {
    "collapsed": true
   },
   "outputs": [],
   "source": []
  }
 ],
 "metadata": {
  "kernelspec": {
   "display_name": "Python 3",
   "language": "python",
   "name": "python3"
  },
  "language_info": {
   "codemirror_mode": {
    "name": "ipython",
    "version": 3
   },
   "file_extension": ".py",
   "mimetype": "text/x-python",
   "name": "python",
   "nbconvert_exporter": "python",
   "pygments_lexer": "ipython3",
   "version": "3.4.3"
  }
 },
 "nbformat": 4,
 "nbformat_minor": 0
}
