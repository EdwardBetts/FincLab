{
 "cells": [
  {
   "cell_type": "markdown",
   "metadata": {},
   "source": [
    "Naming Rules - Chinese Exchanges\n",
    "==\n",
    "\n",
    "Replace 'x' as a number.\n",
    "\n",
    "## A Shares\n",
    "- Shanghai Exchange: 60xxxx\n",
    "- Shenzhen Exchange: 000xxx\n",
    "- Mid-small Exchange: 00xxxx\n",
    "\n",
    "## B Shares\n",
    "- Shanghai Exchange: 900xxx\n",
    "- Shenzhen Exchange: 200xxx\n",
    "\n",
    "## 创业板\n",
    "- 创业板: 30xxxx\n",
    "- 创业板增发: 37xxxx\n",
    "- 创业板配股: 38xxxx"
   ]
  },
  {
   "cell_type": "code",
   "execution_count": null,
   "metadata": {
    "collapsed": true
   },
   "outputs": [],
   "source": []
  }
 ],
 "metadata": {
  "kernelspec": {
   "display_name": "Python 3",
   "language": "python",
   "name": "python3"
  },
  "language_info": {
   "codemirror_mode": {
    "name": "ipython",
    "version": 3
   },
   "file_extension": ".py",
   "mimetype": "text/x-python",
   "name": "python",
   "nbconvert_exporter": "python",
   "pygments_lexer": "ipython3",
   "version": "3.4.3"
  }
 },
 "nbformat": 4,
 "nbformat_minor": 0
}
