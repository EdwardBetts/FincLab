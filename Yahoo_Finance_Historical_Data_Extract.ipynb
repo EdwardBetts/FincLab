{
 "cells": [
  {
   "cell_type": "markdown",
   "metadata": {},
   "source": [
    "To Extract Historical Stock Data from Yahoo! Finance\n",
    "==\n",
    "\n",
    "To do list:\n",
    "- Read and write json data (learn from yahoo-oauth)\n",
    "- Use simple URL requests to authenticate (two-legged)"
   ]
  },
  {
   "cell_type": "markdown",
   "metadata": {},
   "source": [
    "# Read and Write JSON Data\n",
    "\n",
    "The user needs to specify *consumer_key* and *consumer_secret* in the specified .json file to begin with.\n",
    "\n",
    "Then the program is capable to write other authentication data into the same file (such as expiry time). These data will be useful to avoid repetitive authentication when token is valid.\n",
    "\n",
    "## Learning resource \n",
    "```\n",
    "git install yahoo-oauth\n",
    "yahoo_oauth/yahoo_oauth.py\n",
    "yahoo_oauth/utils.py\n",
    "```"
   ]
  },
  {
   "cell_type": "code",
   "execution_count": 1,
   "metadata": {
    "collapsed": false
   },
   "outputs": [],
   "source": [
    "import json\n",
    "\n",
    "def json_write_data(json_data, filename):\n",
    "    \"\"\"Write json data into a file\n",
    "    \"\"\"\n",
    "    with open(filename, 'w') as fp:\n",
    "        json.dump(json_data, fp, indent=4, \n",
    "                 sort_keys=True, \n",
    "                 ensure_ascii=False)\n",
    "        return True\n",
    "    return False\n",
    "\n",
    "def json_get_data(filename):\n",
    "    \"\"\"Get data from json file \n",
    "    \"\"\"\n",
    "    with open(filename, 'r') as fp:\n",
    "        json_data = json.load(fp)\n",
    "        return json_data\n",
    "    return False"
   ]
  },
  {
   "cell_type": "markdown",
   "metadata": {},
   "source": [
    "# Logging\n",
    "\n",
    "To produce a log file."
   ]
  },
  {
   "cell_type": "code",
   "execution_count": 6,
   "metadata": {
    "collapsed": false
   },
   "outputs": [],
   "source": [
    "import logging\n",
    "from logging import Logger, handlers\n",
    "\n",
    "class YahooLogger(logging.Logger):\n",
    "    \"\"\"\n",
    "    Yahoo! Logger class\n",
    "    \"\"\"\n",
    "    \n",
    "    def __init__(self, name, level=logging.DEBUG):\n",
    "        \"\"\"\n",
    "        - name : logger name\n",
    "        - filename : file containing logs\n",
    "        \"\"\"\n",
    "        super(YahooLogger, self).__init__(name)\n",
    "        self.name = name\n",
    "        self.level = level\n",
    "        \n",
    "        self.setLevel(self.level)\n",
    "        \n",
    "        formatter = logging.Formatter(\"[%(asctime)s %(levelname)s] [%(name)s.%(module)s.%(funcName)s] %(message)s\")\n",
    "        \n",
    "        stream_handler = logging.StreamHandler()\n",
    "        stream_handler.setFormatter(formatter)\n",
    "        self.addHandler(stream_handler)\n",
    "\n",
    "# Initiate a logger\n",
    "logging.setLoggerClass(YahooLogger)\n",
    "logger = logging.getLogger('Yahoo! OAuth')\n",
    "logger.propagate = False"
   ]
  },
  {
   "cell_type": "code",
   "execution_count": 68,
   "metadata": {
    "collapsed": false
   },
   "outputs": [
    {
     "name": "stderr",
     "output_type": "stream",
     "text": [
      "[2015-08-20 21:57:32,495 DEBUG] [Yahoo! OAuth.<ipython-input-68-78863ad82b8c>.__init__] Checking the json session file.\n",
      "[2015-08-20 21:57:32,496 DEBUG] [Yahoo! OAuth.<ipython-input-68-78863ad82b8c>.token_is_valid] ELAPSED TIME: 1000002352.496213\n",
      "[2015-08-20 21:57:32,496 DEBUG] [Yahoo! OAuth.<ipython-input-68-78863ad82b8c>.token_is_valid] Token has EXPIRED.\n",
      "[2015-08-20 21:57:32,497 DEBUG] [Yahoo! OAuth.<ipython-input-68-78863ad82b8c>.refresh_access_token] Refresh acess token\n",
      "[2015-08-20 21:57:53,233 DEBUG] [Yahoo! OAuth.<ipython-input-68-78863ad82b8c>.url_request] Authenticated successfully.\n"
     ]
    },
    {
     "name": "stdout",
     "output_type": "stream",
     "text": [
      "{'timestamp': '1440079052', 'consumer_secret': '0d0c9222ce8533a5e1350e38f9216ef633561289', 'oauth_token': 'dwaqbvk', 'oauth_token_secret': '276ee3dfff914fff7e48809bd0a1af346a783023', 'oauth_token_expires_in': '3600', 'nonce': 'MjU2NDE5ODM5Mzc5MjM4MDg3NjQ1NTAw', 'consumer_key': 'dj0yJmk9VWo0RXhCSk80MmlQJmQ9WVdrOVNXRjFOa2cwTm1zbWNHbzlNQS0tJnM9Y29uc3VtZXJzZWNyZXQmeD1hYw--'}\n"
     ]
    }
   ],
   "source": [
    "import random\n",
    "import time\n",
    "import base64\n",
    "import urllib\n",
    "import re\n",
    "\n",
    "class YahooOAuth():\n",
    "    \"\"\"\n",
    "    Yahoo! two-legged authentication\n",
    "    \"\"\"\n",
    "    def __init__(self, consumer_key, consumer_secret, **kwargs):\n",
    "        \"\"\"\n",
    "        consumer_key : client key\n",
    "        consumer_secret : client secret \n",
    "        key : string + consumer_key\n",
    "        secret : string + consumer_secret\n",
    "        \"\"\"\n",
    "        self.service_params = {}\n",
    "        \n",
    "        if kwargs.get('from_file'):\n",
    "            logger.debug(\"Checking the json session file.\")\n",
    "            self.from_file = kwargs.get('from_file')\n",
    "            self.service_params = json_get_data(self.from_file)\n",
    "            vars(self).update(self.service_params)\n",
    "        else:\n",
    "            self.consumer_key = consumer_key\n",
    "            self.consumer_secret = consumer_secret\n",
    "            \n",
    "        vars(self).update(kwargs) # Update properties just in case user specifies them\n",
    "        \n",
    "        # Example to get a property from json_data\n",
    "        # self.callback_uri = vars(self).get('callback_uri', CALLBACK_URI)\n",
    "        \n",
    "        # Initiate Two-legged Auth\n",
    "        self.service_params.update({\n",
    "            'consumer_key' : self.consumer_key, \n",
    "            'consumer_secret' : self.consumer_secret\n",
    "        })\n",
    "        \n",
    "        if vars(self).get('timestamp'):\n",
    "            self.token_time = int(vars(self).get('timestamp'))        \n",
    "        else:\n",
    "            self.token_time = 0\n",
    "        \n",
    "        if not self.token_is_valid():\n",
    "            self.refresh_access_token()\n",
    "    \n",
    "    def refresh_access_token(self):\n",
    "        \"\"\"Refresh access token.\n",
    "        \"\"\"\n",
    "        logger.debug(\"Refresh acess token\")\n",
    "        \n",
    "        self.update_time_nonce() # update timestamp & nonce\n",
    "        self.token_time = self.service_params['timestamp']\n",
    "        \n",
    "        # Form auth url and parse results\n",
    "        self.oauth_url = 'https://api.login.yahoo.com/oauth/v2/get_request_token?oauth_callback=oob'\n",
    "        self.two_leg_oauth_url = self.oauth_url + \\\n",
    "                                 '&oauth_consumer_key=' + self.service_params['consumer_key'] + \\\n",
    "                                 '&oauth_signature=' + self.service_params['consumer_secret'] + '%26' + \\\n",
    "                                 '&oauth_timestamp=' + self.service_params['timestamp'] + \\\n",
    "                                 '&oauth_nonce=' + self.service_params['nonce'] + \\\n",
    "                                 '&oauth_signature_method=PLAINTEXT&oauth_version=1.0'\n",
    "    \n",
    "        self.token = self.url_request(self.two_leg_oauth_url)\n",
    "        self.parse_token(self.token)\n",
    "        \n",
    "        # Save session token to file\n",
    "        json_write_data(self.service_params, vars(self).get('from_file', 'secrets.json'))\n",
    "    \n",
    "        \n",
    "    def token_is_valid(self):\n",
    "        \"\"\" Check the validity of the token: 3600s\n",
    "        \"\"\"\n",
    "        elapsed_time = time.time() - self.token_time\n",
    "        logger.debug(\"ELAPSED TIME: {0}\".format(elapsed_time))\n",
    "        if elapsed_time > 3540: # 1 minute before it expires\n",
    "            logger.debug(\"Token has EXPIRED.\")\n",
    "            return False\n",
    "        else:\n",
    "            logger.debug(\"Token is still valid\")\n",
    "            return True\n",
    "        \n",
    "        \n",
    "    def parse_token(self, s):\n",
    "        \"\"\"Parse session token from the authentication url\n",
    "        I don't need the xoauth_request_auth_url. \n",
    "        I think that is what I would need to pass to the user \n",
    "        if it was for a three-legged authentication.\n",
    "        \n",
    "        s : token\n",
    "        \"\"\"\n",
    "        oauth_token = re.search('oauth_token\\=.*?\\&', s).group(0)[12:-1]\n",
    "        oauth_token_secret = re.search('oauth_token_secret\\=.*?\\&', s).group(0)[len('oauth_token_secret='):-1]\n",
    "        oauth_expires_in = re.search('oauth_expires_in\\=.*?\\&', s).group(0)[len('oauth_expires_in='):-1]\n",
    "        \n",
    "        self.service_params.update({\n",
    "                'oauth_token' : oauth_token,\n",
    "                'oauth_token_secret' : oauth_token_secret,\n",
    "                'oauth_token_expires_in' : oauth_expires_in\n",
    "            })\n",
    "        \n",
    "    def url_request(self, url):\n",
    "        \"\"\"Read the content from a url\n",
    "        Returns the content in string\n",
    "        \"\"\"\n",
    "        req = urllib.request.Request(url)\n",
    "        # Handle errors\n",
    "        try:\n",
    "            response = urllib.request.urlopen(req)\n",
    "        except urllib.error.HTTPError as e:\n",
    "            logger.debug('The server cannot fulfill the request.')\n",
    "            logger.debug('Error code: ' + str(e.code))\n",
    "        except urllib.error.URLError as e:\n",
    "            logger.debug('We failed to reach the Yahoo! OAuth server')\n",
    "            logger.debug('Error reason: ' + str(e.reason))\n",
    "        else:\n",
    "            logger.debug('Authenticated successfully.')\n",
    "        \n",
    "        oauth_token = response.read().decode(\"utf8\")\n",
    "        return oauth_token\n",
    "        \n",
    "    def update_time_nonce(self):\n",
    "        \"\"\"Update two-leg authentication:\n",
    "        - timestamp\n",
    "        - nonce\n",
    "        \"\"\"\n",
    "        self.service_params.update({\n",
    "            'timestamp' : str(int(time.time())), \n",
    "            'nonce' : self.get_nonce(), \n",
    "        })\n",
    "        \n",
    "    def get_nonce(self):\n",
    "        \"\"\"Unique token generated for each request\"\"\"\n",
    "        n = base64.b64encode(\n",
    "            ''.join([str(random.randint(0, 9)) for i in range(24)]).encode('utf-8'))\n",
    "        return str(n.decode('utf-8'))\n",
    "\n",
    "yf = YahooOAuth(None, None, from_file='oauth.json')\n",
    "print(yf.service_params)"
   ]
  },
  {
   "cell_type": "code",
   "execution_count": 39,
   "metadata": {
    "collapsed": false
   },
   "outputs": [
    {
     "name": "stdout",
     "output_type": "stream",
     "text": [
      "bsfdyha\n",
      "3612958d224e1d5aa70f18270bdcbb42483e142c\n",
      "3600\n"
     ]
    }
   ],
   "source": []
  },
  {
   "cell_type": "code",
   "execution_count": 1,
   "metadata": {
    "collapsed": false
   },
   "outputs": [
    {
     "ename": "NameError",
     "evalue": "name 'yf' is not defined",
     "output_type": "error",
     "traceback": [
      "\u001b[0;31m---------------------------------------------------------------------------\u001b[0m",
      "\u001b[0;31mNameError\u001b[0m                                 Traceback (most recent call last)",
      "\u001b[0;32m<ipython-input-1-ee20c7925b08>\u001b[0m in \u001b[0;36m<module>\u001b[0;34m()\u001b[0m\n\u001b[1;32m      6\u001b[0m \u001b[0;31m# Build URL\u001b[0m\u001b[0;34m\u001b[0m\u001b[0;34m\u001b[0m\u001b[0m\n\u001b[1;32m      7\u001b[0m \u001b[0murl_base\u001b[0m \u001b[0;34m=\u001b[0m \u001b[0;34m'https://api.login.yahoo.com/oauth/v2/get_request_token?oauth_callback=oob'\u001b[0m\u001b[0;34m\u001b[0m\u001b[0m\n\u001b[0;32m----> 8\u001b[0;31m \u001b[0mconsumer_key\u001b[0m \u001b[0;34m=\u001b[0m \u001b[0;34m'&oauth_consumer_key='\u001b[0m\u001b[0;34m+\u001b[0m \u001b[0myf\u001b[0m\u001b[0;34m.\u001b[0m\u001b[0msession\u001b[0m\u001b[0;34m.\u001b[0m\u001b[0mconsumer_key\u001b[0m\u001b[0;34m\u001b[0m\u001b[0m\n\u001b[0m\u001b[1;32m      9\u001b[0m \u001b[0mconsumer_secret\u001b[0m \u001b[0;34m=\u001b[0m \u001b[0;34m'&oauth_signature='\u001b[0m \u001b[0;34m+\u001b[0m \u001b[0myf\u001b[0m\u001b[0;34m.\u001b[0m\u001b[0msession\u001b[0m\u001b[0;34m.\u001b[0m\u001b[0mconsumer_secret\u001b[0m \u001b[0;34m+\u001b[0m \u001b[0;34m'%26'\u001b[0m\u001b[0;34m\u001b[0m\u001b[0m\n\u001b[1;32m     10\u001b[0m \u001b[0mother\u001b[0m \u001b[0;34m=\u001b[0m \u001b[0;34m'&oauth_nonce=noncasdfe'\u001b[0m \u001b[0;34m+\u001b[0m \u001b[0;34m'&oauth_signature_method=PLAINTEXT&oauth_timestamp=1401800435&oauth_version=1.0'\u001b[0m\u001b[0;34m\u001b[0m\u001b[0m\n",
      "\u001b[0;31mNameError\u001b[0m: name 'yf' is not defined"
     ]
    }
   ],
   "source": [
    "\"\"\"\n",
    "https://api.login.yahoo.com/oauth/v2/get_request_token?oauth_callback=oob&oauth_consumer_key=PQRST&oauth_nonce=noncasdfe&oauth_signature=ABCD%26&oauth_signature_method=PLAINTEXT&oauth_timestamp=1401800435&oauth_version=1.0\n",
    "while replacing ABCD as Consumer Secret; PQRST as Consumer Key.\n",
    "Note: oauth_signature is your Consumer Secret followed by %26. If you Consumer Secret was ABCD your oauth_signature would become: ABCD%26\n",
    "\"\"\"     \n",
    "# Build URL\n",
    "url_base = 'https://api.login.yahoo.com/oauth/v2/get_request_token?oauth_callback=oob'\n",
    "consumer_key = '&oauth_consumer_key='+ yf.session.consumer_key\n",
    "consumer_secret = '&oauth_signature=' + yf.session.consumer_secret + '%26'\n",
    "other = '&oauth_nonce=noncasdfe' + '&oauth_signature_method=PLAINTEXT&oauth_timestamp=1401800435&oauth_version=1.0'\n",
    "print(url_base + consumer_key + consumer_secret + other)\n"
   ]
  }
 ],
 "metadata": {
  "kernelspec": {
   "display_name": "Python 3",
   "language": "python",
   "name": "python3"
  },
  "language_info": {
   "codemirror_mode": {
    "name": "ipython",
    "version": 3
   },
   "file_extension": ".py",
   "mimetype": "text/x-python",
   "name": "python",
   "nbconvert_exporter": "python",
   "pygments_lexer": "ipython3",
   "version": "3.4.3"
  }
 },
 "nbformat": 4,
 "nbformat_minor": 0
}
